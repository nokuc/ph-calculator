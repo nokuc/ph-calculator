{
  "nbformat": 4,
  "nbformat_minor": 0,
  "metadata": {
    "colab": {
      "provenance": []
    },
    "kernelspec": {
      "name": "python3",
      "display_name": "Python 3"
    },
    "language_info": {
      "name": "python"
    }
  },
  "cells": [
    {
      "cell_type": "code",
      "source": [
        "import math\n",
        "\n",
        "print(\"Welcome to the pH Calculator 🧪\")\n",
        "print(\"This tool calculates the pH of a strong acid solution.\\n\")\n",
        "\n",
        "while True:  # start an infinite loop\n",
        "    try:\n",
        "        concentration = float(input(\"Enter the concentration of H+ ions in mol/L: \"))\n",
        "\n",
        "        if concentration <= 0:\n",
        "            print(\"⚠️ Concentration must be greater than 0. Try again.\\n\")\n",
        "        else:\n",
        "            pH = -math.log10(concentration)\n",
        "            print(f\"\\n✅ The pH of the solution is: {pH:.2f}\")\n",
        "            break  # stop the loop after success\n",
        "    except:\n",
        "        print(\"⚠️ Invalid input. Please enter a number like 0.001\\n\")\n"
      ],
      "metadata": {
        "colab": {
          "base_uri": "https://localhost:8080/"
        },
        "id": "R3lBDirxLkfw",
        "outputId": "b39ed31d-e169-41a8-f9d9-63d31b1d4753"
      },
      "execution_count": null,
      "outputs": [
        {
          "output_type": "stream",
          "name": "stdout",
          "text": [
            "Welcome to the pH Calculator 🧪\n",
            "This tool calculates the pH of a strong acid solution.\n",
            "\n",
            "Enter the concentration of H+ ions in mol/L: ni\n",
            "⚠️ Invalid input. Please enter a number like 0.001\n",
            "\n",
            "Enter the concentration of H+ ions in mol/L: -9\n",
            "⚠️ Concentration must be greater than 0. Try again.\n",
            "\n",
            "Enter the concentration of H+ ions in mol/L: 8\n",
            "\n",
            "✅ The pH of the solution is: -0.90\n"
          ]
        }
      ]
    },
    {
      "cell_type": "markdown",
      "source": [
        "# 🧪 pH Calculator (Python Project)\n",
        "This is a simple Python program that calculates the pH of a strong acid solution based on the concentration of hydrogen ions (H⁺) entered by the user.\n",
        "\n",
        "## Formula Used:\n",
        "**pH = -log₁₀[H⁺]**\n",
        "\n",
        "- Built by: Nokutenda Chingoiro\n",
        "- Tools used: Python, math module\n",
        "- Platform: Google Colab\n",
        "\n"
      ],
      "metadata": {
        "id": "IG3XpFrcOn5R"
      }
    }
  ]
}